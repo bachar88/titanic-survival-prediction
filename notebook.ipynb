{
 "cells": [
  {
   "cell_type": "code",
   "execution_count": null,
   "id": "df40bf0c",
   "metadata": {
    "vscode": {
     "languageId": "plaintext"
    }
   },
   "outputs": [],
   "source": [
    "\n",
    "# Titanic Survival Prediction — Machine Learning Project\n",
    "\n",
    "#  Author: Bachar\n",
    "#  Description:\n",
    "# This notebook trains a model on the Titanic dataset (from Kaggle)\n",
    "# to predict the probability that a passenger survived.\n",
    "# Steps include data loading, cleaning, feature engineering,\n",
    "# model training, evaluation, and prediction function.\n",
    "\n",
    "# 1. Import Libraries\n",
    "import pandas as pd\n",
    "import numpy as np\n",
    "from sklearn.model_selection import train_test_split\n",
    "from sklearn.linear_model import LogisticRegression\n",
    "from sklearn.metrics import accuracy_score, confusion_matrix, classification_report\n",
    "from sklearn.preprocessing import LabelEncoder\n",
    "\n"
   ]
  },
  {
   "cell_type": "code",
   "execution_count": null,
   "id": "fadb9328",
   "metadata": {
    "vscode": {
     "languageId": "plaintext"
    }
   },
   "outputs": [],
   "source": [
    "# 2. Load Titanic Dataset\n",
    "# -----------------------\n",
    "# Download from Kaggle: https://www.kaggle.com/c/titanic/data\n",
    "# (Place train.csv in the same folder as this notebook)\n",
    "titanic = pd.read_csv(\"Titanic-Dataset.csv\")\n",
    "\n",
    "print(\" Dataset loaded successfully!\")\n",
    "display(titanic.head())"
   ]
  },
  {
   "cell_type": "code",
   "execution_count": null,
   "id": "e7fcbcd9",
   "metadata": {
    "vscode": {
     "languageId": "plaintext"
    }
   },
   "outputs": [],
   "source": [
    "# 3. Data Exploration\n",
    "# -----------------------\n",
    "print(\"Dataset info:\")\n",
    "titanic.info()\n",
    "print(\"\\nMissing values per column:\")\n",
    "print(titanic.isnull().sum())"
   ]
  },
  {
   "cell_type": "code",
   "execution_count": null,
   "id": "09cf0e41",
   "metadata": {
    "vscode": {
     "languageId": "plaintext"
    }
   },
   "outputs": [],
   "source": [
    "# 4. Data Cleaning\n",
    "# -----------------------\n",
    "titanic = titanic.drop([\"PassengerId\", \"Name\", \"Ticket\", \"Cabin\"], axis=1)\n",
    "titanic[\"Age\"].fillna(titanic[\"Age\"].median(), inplace=True)\n",
    "titanic[\"Embarked\"].fillna(titanic[\"Embarked\"].mode()[0], inplace=True)"
   ]
  },
  {
   "cell_type": "code",
   "execution_count": null,
   "id": "20c9d58b",
   "metadata": {
    "vscode": {
     "languageId": "plaintext"
    }
   },
   "outputs": [],
   "source": [
    "# 5. Feature Engineering\n",
    "# -----------------------\n",
    "label = LabelEncoder()\n",
    "titanic[\"Sex\"] = label.fit_transform(titanic[\"Sex\"])   # male=1, female=0\n",
    "titanic[\"Embarked\"] = label.fit_transform(titanic[\"Embarked\"])\n",
    "titanic[\"FamilySize\"] = titanic[\"SibSp\"] + titanic[\"Parch\"] + 1"
   ]
  },
  {
   "cell_type": "code",
   "execution_count": null,
   "id": "3ada80b1",
   "metadata": {
    "vscode": {
     "languageId": "plaintext"
    }
   },
   "outputs": [],
   "source": [
    "# 6. Split Data\n",
    "# -----------------------\n",
    "X = titanic.drop(\"Survived\", axis=1)\n",
    "y = titanic[\"Survived\"]\n",
    "X_train, X_test, y_train, y_test = train_test_split(X, y, test_size=0.2, random_state=42)\n",
    "\n",
    "print(f\"Train samples: {len(X_train)} | Test samples: {len(X_test)}\")"
   ]
  },
  {
   "cell_type": "code",
   "execution_count": null,
   "id": "7829f09c",
   "metadata": {
    "vscode": {
     "languageId": "plaintext"
    }
   },
   "outputs": [],
   "source": [
    "# 7. Train Model\n",
    "# -----------------------\n",
    "model = LogisticRegression(max_iter=1000)\n",
    "model.fit(X_train, y_train)\n",
    "print(\" Model trained successfully!\")"
   ]
  },
  {
   "cell_type": "code",
   "execution_count": null,
   "id": "f1a6eabf",
   "metadata": {
    "vscode": {
     "languageId": "plaintext"
    }
   },
   "outputs": [],
   "source": [
    "# 8. Evaluate Model\n",
    "# -----------------------\n",
    "y_pred = model.predict(X_test)\n",
    "accuracy = accuracy_score(y_test, y_pred)\n",
    "print(f\"\\n Accuracy: {accuracy:.3f}\")\n",
    "print(\"\\nConfusion Matrix:\")\n",
    "print(confusion_matrix(y_test, y_pred))\n",
    "print(\"\\nClassification Report:\")\n",
    "print(classification_report(y_test, y_pred))"
   ]
  }
 ],
 "metadata": {
  "language_info": {
   "name": "python"
  }
 },
 "nbformat": 4,
 "nbformat_minor": 5
}
